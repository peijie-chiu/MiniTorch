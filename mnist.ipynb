{
 "cells": [
  {
   "cell_type": "code",
   "execution_count": 1,
   "source": [
    "%run -i main.py --dataroot data/mnist_26k.npz --model ConvNet --nf 16 32 --nc 1  train --epochs 10 --lr 1e-3 --batch-size 64 --solver Momentum"
   ],
   "outputs": [
    {
     "output_type": "stream",
     "name": "stdout",
     "text": [
      "Namespace(batch_size=64, dataroot='data/mnist_26k.npz', dry_run=False, epochs=5, image_size=28, log_interval=100, lr=0.01, manual_seed=0, model='ConvNet', n_class=10, nc=1, net='', nf=[16, 32], outf='', solver='Momentum', subcommand='train')\n",
      "(main) Sequential(\n",
      "  (0) Conv2d(in_channels=1, out_channels=16, kernel_size=3, stride=1, padding=1, bias=True)\n",
      "  (1) BatchNorm2d(num_features=16, eps=1e-05, momentum=0.1, affine=True)\n",
      "  (2) RELU()\n",
      "  (3) Maxpool2d(kernel_size=2, stride=2, padding=0)\n",
      "  (4) Conv2d(in_channels=16, out_channels=32, kernel_size=3, stride=1, padding=1, bias=True)\n",
      "  (5) BatchNorm2d(num_features=32, eps=1e-05, momentum=0.1, affine=True)\n",
      "  (6) RELU()\n",
      "  (7) Maxpool2d(kernel_size=2, stride=2, padding=0)\n",
      "  (8) Flatten()\n",
      "  (9) Dropout(p=0.3)\n",
      "  (10) Linear(in_features=1568, out_features=10)\n",
      ")\n",
      "==============================Training Start==============================\n",
      "000000000: #### 0 Epochs: Val Loss = 2.330e+00, Accuracy = 7.40%\n",
      "000000100: Training Loss = 1.162e+00, Accuracy = 68.44%\n",
      "000000200: Training Loss = 5.906e-01, Accuracy = 81.61%\n",
      "000000300: Training Loss = 4.811e-01, Accuracy = 84.12%\n",
      "000000390: #### 1 Epochs: Val Loss = 4.350e-01, Accuracy = 91.35%\n",
      "000000400: Training Loss = 4.194e-01, Accuracy = 86.22%\n",
      "000000500: Training Loss = 4.081e-01, Accuracy = 87.00%\n",
      "000000600: Training Loss = 4.263e-01, Accuracy = 86.33%\n",
      "000000700: Training Loss = 4.243e-01, Accuracy = 86.03%\n",
      "000000780: #### 2 Epochs: Val Loss = 8.654e-01, Accuracy = 80.10%\n",
      "000000800: Training Loss = 4.175e-01, Accuracy = 86.72%\n",
      "000000900: Training Loss = 3.759e-01, Accuracy = 88.05%\n",
      "000001000: Training Loss = 3.760e-01, Accuracy = 88.11%\n",
      "000001100: Training Loss = 3.912e-01, Accuracy = 87.94%\n",
      "000001170: #### 3 Epochs: Val Loss = 7.721e-01, Accuracy = 85.31%\n",
      "000001200: Training Loss = 3.868e-01, Accuracy = 87.72%\n",
      "000001300: Training Loss = 3.657e-01, Accuracy = 88.31%\n",
      "000001400: Training Loss = 3.378e-01, Accuracy = 89.55%\n",
      "000001500: Training Loss = 3.585e-01, Accuracy = 88.98%\n",
      "000001560: #### 4 Epochs: Val Loss = 6.544e-01, Accuracy = 88.96%\n",
      "000001600: Training Loss = 3.634e-01, Accuracy = 88.47%\n"
     ]
    }
   ],
   "metadata": {}
  }
 ],
 "metadata": {
  "orig_nbformat": 4,
  "language_info": {
   "name": "python",
   "version": "3.7.7",
   "mimetype": "text/x-python",
   "codemirror_mode": {
    "name": "ipython",
    "version": 3
   },
   "pygments_lexer": "ipython3",
   "nbconvert_exporter": "python",
   "file_extension": ".py"
  },
  "kernelspec": {
   "name": "python3",
   "display_name": "Python 3.7.7 64-bit ('pytorch': conda)"
  },
  "interpreter": {
   "hash": "6d6c92937dd838d4d5cad6b45cdc6deca670360475776cd4b2b4a79e3865f5ea"
  }
 },
 "nbformat": 4,
 "nbformat_minor": 2
}