{
 "cells": [
  {
   "cell_type": "code",
   "execution_count": 1,
   "metadata": {},
   "outputs": [],
   "source": [
    "import numpy as np\n",
    "from os.path import normpath as fn\n",
    "import autograd \n",
    "import layers\n",
    "\n",
    "np.random.seed(0)"
   ]
  },
  {
   "cell_type": "code",
   "execution_count": 2,
   "metadata": {},
   "outputs": [],
   "source": [
    "# Load data\n",
    "data = np.load(fn('data/mnist_26k.npz'))\n",
    "\n",
    "train_im = np.float32(data['im_train'])/255.-0.5\n",
    "train_lb = data['lbl_train']\n",
    "\n",
    "val_im = np.float32(data['im_val'])/255.-0.5\n",
    "val_lb = data['lbl_val']"
   ]
  },
  {
   "cell_type": "code",
   "execution_count": 3,
   "metadata": {},
   "outputs": [
    {
     "name": "stdout",
     "output_type": "stream",
     "text": [
      "Sequential(\n",
      "  (0) Linear(784, 2048)\n",
      "  (1) RELU()\n",
      "  (2) Linear(2048, 10)\n",
      ")\n"
     ]
    }
   ],
   "source": [
    "###################################\n",
    "# build static computational graph\n",
    "###################################\n",
    "nHidden = 2048\n",
    "\n",
    "# placeholder for input\n",
    "inp = autograd.Value()\n",
    "lab = autograd.Value()\n",
    "\n",
    "model = layers.Sequential([layers.Linear(28*28, nHidden),\n",
    "                           layers.RELU(),\n",
    "                           layers.Linear(nHidden, 10)\n",
    "                          ])\n",
    "print(model)\n",
    "\n",
    "# loss function: softmax + crossentropy\n",
    "smaxloss = layers.SmaxCELoss()\n",
    "accuracy = layers.Accuracy()\n",
    "\n",
    "# build computational graph\n",
    "y = model(inp)\n",
    "\n",
    "# Cross Entropy of Soft-max\n",
    "loss = smaxloss(y,lab)\n",
    "\n",
    "# Accuracy\n",
    "acc = accuracy(y,lab)"
   ]
  },
  {
   "cell_type": "code",
   "execution_count": 4,
   "metadata": {},
   "outputs": [
    {
     "name": "stdout",
     "output_type": "stream",
     "text": [
      "000000000: #### 0 Epochs: Val Loss = 2.316e+00, Accuracy = 12.92%\n",
      "000000100: Training Loss = 1.769e+00, Accuracy = 55.66%\n",
      "000000200: Training Loss = 1.061e+00, Accuracy = 79.69%\n",
      "000000300: Training Loss = 7.699e-01, Accuracy = 84.88%\n",
      "000000390: #### 1 Epochs: Val Loss = 5.632e-01, Accuracy = 88.12%\n",
      "000000400: Training Loss = 6.561e-01, Accuracy = 84.41%\n",
      "000000500: Training Loss = 5.653e-01, Accuracy = 86.81%\n",
      "000000600: Training Loss = 5.331e-01, Accuracy = 86.77%\n",
      "000000700: Training Loss = 5.021e-01, Accuracy = 86.88%\n",
      "000000780: #### 2 Epochs: Val Loss = 4.119e-01, Accuracy = 90.42%\n",
      "000000800: Training Loss = 4.577e-01, Accuracy = 88.41%\n",
      "000000900: Training Loss = 4.418e-01, Accuracy = 88.48%\n",
      "000001000: Training Loss = 4.363e-01, Accuracy = 88.19%\n",
      "000001100: Training Loss = 4.189e-01, Accuracy = 89.00%\n",
      "000001170: #### 3 Epochs: Val Loss = 3.554e-01, Accuracy = 91.25%\n",
      "000001200: Training Loss = 3.952e-01, Accuracy = 89.39%\n",
      "000001300: Training Loss = 4.006e-01, Accuracy = 88.98%\n",
      "000001400: Training Loss = 3.933e-01, Accuracy = 89.19%\n",
      "000001500: Training Loss = 3.813e-01, Accuracy = 88.95%\n",
      "000001560: #### 4 Epochs: Val Loss = 3.260e-01, Accuracy = 91.67%\n",
      "000001600: Training Loss = 3.693e-01, Accuracy = 90.05%\n",
      "000001700: Training Loss = 3.604e-01, Accuracy = 89.69%\n",
      "000001800: Training Loss = 3.541e-01, Accuracy = 90.38%\n",
      "000001900: Training Loss = 3.554e-01, Accuracy = 90.02%\n",
      "000001950: #### 5 Epochs: Val Loss = 3.110e-01, Accuracy = 91.98%\n",
      "000002000: Training Loss = 3.454e-01, Accuracy = 90.55%\n",
      "000002100: Training Loss = 3.453e-01, Accuracy = 90.09%\n",
      "000002200: Training Loss = 3.369e-01, Accuracy = 90.30%\n",
      "000002300: Training Loss = 3.425e-01, Accuracy = 90.45%\n",
      "000002340: #### 6 Epochs: Val Loss = 2.992e-01, Accuracy = 92.19%\n",
      "000002400: Training Loss = 3.353e-01, Accuracy = 90.39%\n",
      "000002500: Training Loss = 3.326e-01, Accuracy = 90.83%\n",
      "000002600: Training Loss = 3.247e-01, Accuracy = 91.06%\n",
      "000002700: Training Loss = 3.210e-01, Accuracy = 90.73%\n",
      "000002730: #### 7 Epochs: Val Loss = 2.850e-01, Accuracy = 92.29%\n",
      "000002800: Training Loss = 3.121e-01, Accuracy = 91.00%\n",
      "000002900: Training Loss = 3.169e-01, Accuracy = 90.89%\n",
      "000003000: Training Loss = 3.093e-01, Accuracy = 91.33%\n",
      "000003100: Training Loss = 3.255e-01, Accuracy = 90.86%\n",
      "000003120: #### 8 Epochs: Val Loss = 2.751e-01, Accuracy = 92.29%\n",
      "000003200: Training Loss = 3.134e-01, Accuracy = 91.31%\n",
      "000003300: Training Loss = 3.092e-01, Accuracy = 91.42%\n",
      "000003400: Training Loss = 2.911e-01, Accuracy = 91.42%\n",
      "000003500: Training Loss = 3.033e-01, Accuracy = 91.48%\n",
      "000003510: #### 9 Epochs: Val Loss = 2.722e-01, Accuracy = 92.92%\n",
      "000003600: Training Loss = 3.013e-01, Accuracy = 91.98%\n",
      "000003700: Training Loss = 2.950e-01, Accuracy = 91.20%\n",
      "000003800: Training Loss = 2.955e-01, Accuracy = 91.34%\n",
      "000003900: Training Loss = 2.928e-01, Accuracy = 91.61%\n",
      "000003900: #### 10 Epochs: Val Loss = 2.638e-01, Accuracy = 92.71%\n"
     ]
    }
   ],
   "source": [
    "# Training loop\n",
    "BSZ=64\n",
    "lr=0.001\n",
    "\n",
    "NUM_EPOCH=10\n",
    "DISPITER=100\n",
    "batches = range(0,len(train_lb)-BSZ+1,BSZ)\n",
    "\n",
    "autograd.init_momentum()\n",
    "\n",
    "\n",
    "niter=0; avg_loss = 0.; avg_acc = 0.\n",
    "for ep in range(NUM_EPOCH+1):\n",
    "\n",
    "    # As we train, let's keep track of val accuracy\n",
    "    vacc = 0.; vloss = 0.; viter = 0\n",
    "    for b in range(0,len(val_lb)-BSZ+1,BSZ):\n",
    "        inp.set(val_im[b:b+BSZ,:]); lab.set(val_lb[b:b+BSZ])\n",
    "        autograd.Forward()\n",
    "        viter = viter + 1;vacc = vacc + acc.top;vloss = vloss + loss.top\n",
    "    vloss = vloss / viter; vacc = vacc / viter * 100\n",
    "    print(\"%09d: #### %d Epochs: Val Loss = %.3e, Accuracy = %.2f%%\" % (niter,ep,vloss,vacc))\n",
    "    if ep == NUM_EPOCH:\n",
    "        break\n",
    "\n",
    "    # Shuffle Training Set\n",
    "    idx = np.random.permutation(len(train_lb))\n",
    "\n",
    "    # Train one epoch\n",
    "    for b in batches:\n",
    "        # Load a batch\n",
    "        inp.set(train_im[idx[b:b+BSZ],:])\n",
    "        lab.set(train_lb[idx[b:b+BSZ]])\n",
    "\n",
    "        autograd.Forward()\n",
    "        avg_loss = avg_loss + loss.top; avg_acc = avg_acc + acc.top;\n",
    "        niter = niter + 1\n",
    "        if niter % DISPITER == 0:\n",
    "            avg_loss = avg_loss / DISPITER; avg_acc = avg_acc / DISPITER * 100\n",
    "            print(\"%09d: Training Loss = %.3e, Accuracy = %.2f%%\" % (niter,avg_loss,avg_acc))\n",
    "            avg_loss = 0.; avg_acc = 0.;\n",
    "\n",
    "        autograd.Backward(loss)\n",
    "        autograd.momentum(lr,0.9)"
   ]
  },
  {
   "cell_type": "code",
   "execution_count": null,
   "metadata": {},
   "outputs": [],
   "source": []
  }
 ],
 "metadata": {
  "interpreter": {
   "hash": "6d6c92937dd838d4d5cad6b45cdc6deca670360475776cd4b2b4a79e3865f5ea"
  },
  "kernelspec": {
   "display_name": "Python 3",
   "language": "python",
   "name": "python3"
  },
  "language_info": {
   "codemirror_mode": {
    "name": "ipython",
    "version": 3
   },
   "file_extension": ".py",
   "mimetype": "text/x-python",
   "name": "python",
   "nbconvert_exporter": "python",
   "pygments_lexer": "ipython3",
   "version": "3.9.2"
  }
 },
 "nbformat": 4,
 "nbformat_minor": 2
}
