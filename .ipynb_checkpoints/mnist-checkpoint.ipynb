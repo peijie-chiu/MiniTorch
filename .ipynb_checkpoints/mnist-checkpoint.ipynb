{
 "cells": [
  {
   "cell_type": "code",
   "execution_count": 1,
   "metadata": {},
   "outputs": [],
   "source": [
    "import numpy as np\n",
    "from os.path import normpath as fn\n",
    "import autograd \n",
    "\n",
    "np.random.seed(0)"
   ]
  },
  {
   "cell_type": "code",
   "execution_count": 2,
   "metadata": {},
   "outputs": [],
   "source": [
    "# Load data\n",
    "data = np.load(fn('data/mnist_26k.npz'))\n",
    "\n",
    "train_im = np.float32(data['im_train'])/255.-0.5\n",
    "train_lb = data['lbl_train']\n",
    "\n",
    "val_im = np.float32(data['im_val'])/255.-0.5\n",
    "val_lb = data['lbl_val']"
   ]
  },
  {
   "cell_type": "code",
   "execution_count": 3,
   "metadata": {},
   "outputs": [],
   "source": [
    "# Init Weights\n",
    "def xavier(shape):\n",
    "    sq = np.sqrt(3.0/np.prod(shape[:-1]))\n",
    "    return np.random.uniform(-sq,sq,shape)"
   ]
  },
  {
   "cell_type": "code",
   "execution_count": 9,
   "metadata": {},
   "outputs": [
    {
     "name": "stdout",
     "output_type": "stream",
     "text": [
      "<autograd.add object at 0x7f99aa70aed0>\n"
     ]
    }
   ],
   "source": [
    "# define computational graph\n",
    "nHidden = 2048\n",
    "\n",
    "# Inputs and parameters\n",
    "inp = autograd.Value()\n",
    "lab = autograd.Value()\n",
    "\n",
    "fc1 = Linear(28*28, nHidden)\n",
    "fc2 = Linear(nHidden, 10)\n",
    "\n",
    "y = fc1.forward(inp)\n",
    "print(y)\n",
    "y = autograd.RELU(y)\n",
    "y = fc2.forward(y)\n",
    "\n",
    "# Cross Entropy of Soft-max\n",
    "loss = autograd.smaxloss(y,lab)\n",
    "loss = autograd.mean(loss)\n",
    "\n",
    "# Accuracy\n",
    "acc = autograd.accuracy(y,lab)\n",
    "acc = autograd.mean(acc)"
   ]
  },
  {
   "cell_type": "code",
   "execution_count": 6,
   "metadata": {},
   "outputs": [],
   "source": [
    "# Inputs and parameters\n",
    "inp = autograd.Value()\n",
    "lab = autograd.Value()\n",
    "\n",
    "W1 = autograd.Param()\n",
    "B1 = autograd.Param()\n",
    "W2 = autograd.Param()\n",
    "B2 = autograd.Param()"
   ]
  },
  {
   "cell_type": "code",
   "execution_count": 7,
   "metadata": {},
   "outputs": [],
   "source": [
    "# Model\n",
    "y = autograd.matmul(inp,W1)\n",
    "y = autograd.add(y,B1)\n",
    "y = autograd.RELU(y)\n",
    "\n",
    "y = autograd.matmul(y,W2)\n",
    "y = autograd.add(y,B2) # This is our final prediction\n",
    "\n",
    "\n",
    "# Cross Entropy of Soft-max\n",
    "loss = autograd.smaxloss(y,lab)\n",
    "loss = autograd.mean(loss)\n",
    "\n",
    "# Accuracy\n",
    "acc = autograd.accuracy(y,lab)\n",
    "acc = autograd.mean(acc)\n",
    "\n",
    "###################################\n",
    "nHidden = 2048\n",
    "\n",
    "W1.set(xavier((28*28,nHidden)))\n",
    "B1.set(np.zeros((nHidden)))\n",
    "W2.set(xavier((nHidden,10)))\n",
    "B2.set(np.zeros((10)))"
   ]
  },
  {
   "cell_type": "code",
   "execution_count": 8,
   "metadata": {},
   "outputs": [
    {
     "ename": "AttributeError",
     "evalue": "'Value' object has no attribute 'top'",
     "output_type": "error",
     "traceback": [
      "\u001b[0;31m---------------------------------------------------------------------------\u001b[0m",
      "\u001b[0;31mAttributeError\u001b[0m                            Traceback (most recent call last)",
      "\u001b[0;32m<ipython-input-8-48ec9dc4025e>\u001b[0m in \u001b[0;36m<module>\u001b[0;34m\u001b[0m\n\u001b[1;32m     18\u001b[0m     \u001b[0;32mfor\u001b[0m \u001b[0mb\u001b[0m \u001b[0;32min\u001b[0m \u001b[0mrange\u001b[0m\u001b[0;34m(\u001b[0m\u001b[0;36m0\u001b[0m\u001b[0;34m,\u001b[0m\u001b[0mlen\u001b[0m\u001b[0;34m(\u001b[0m\u001b[0mval_lb\u001b[0m\u001b[0;34m)\u001b[0m\u001b[0;34m-\u001b[0m\u001b[0mBSZ\u001b[0m\u001b[0;34m+\u001b[0m\u001b[0;36m1\u001b[0m\u001b[0;34m,\u001b[0m\u001b[0mBSZ\u001b[0m\u001b[0;34m)\u001b[0m\u001b[0;34m:\u001b[0m\u001b[0;34m\u001b[0m\u001b[0;34m\u001b[0m\u001b[0m\n\u001b[1;32m     19\u001b[0m         \u001b[0minp\u001b[0m\u001b[0;34m.\u001b[0m\u001b[0mset\u001b[0m\u001b[0;34m(\u001b[0m\u001b[0mval_im\u001b[0m\u001b[0;34m[\u001b[0m\u001b[0mb\u001b[0m\u001b[0;34m:\u001b[0m\u001b[0mb\u001b[0m\u001b[0;34m+\u001b[0m\u001b[0mBSZ\u001b[0m\u001b[0;34m,\u001b[0m\u001b[0;34m:\u001b[0m\u001b[0;34m]\u001b[0m\u001b[0;34m)\u001b[0m\u001b[0;34m;\u001b[0m \u001b[0mlab\u001b[0m\u001b[0;34m.\u001b[0m\u001b[0mset\u001b[0m\u001b[0;34m(\u001b[0m\u001b[0mval_lb\u001b[0m\u001b[0;34m[\u001b[0m\u001b[0mb\u001b[0m\u001b[0;34m:\u001b[0m\u001b[0mb\u001b[0m\u001b[0;34m+\u001b[0m\u001b[0mBSZ\u001b[0m\u001b[0;34m]\u001b[0m\u001b[0;34m)\u001b[0m\u001b[0;34m\u001b[0m\u001b[0;34m\u001b[0m\u001b[0m\n\u001b[0;32m---> 20\u001b[0;31m         \u001b[0mautograd\u001b[0m\u001b[0;34m.\u001b[0m\u001b[0mForward\u001b[0m\u001b[0;34m(\u001b[0m\u001b[0;34m)\u001b[0m\u001b[0;34m\u001b[0m\u001b[0;34m\u001b[0m\u001b[0m\n\u001b[0m\u001b[1;32m     21\u001b[0m         \u001b[0mviter\u001b[0m \u001b[0;34m=\u001b[0m \u001b[0mviter\u001b[0m \u001b[0;34m+\u001b[0m \u001b[0;36m1\u001b[0m\u001b[0;34m;\u001b[0m\u001b[0mvacc\u001b[0m \u001b[0;34m=\u001b[0m \u001b[0mvacc\u001b[0m \u001b[0;34m+\u001b[0m \u001b[0macc\u001b[0m\u001b[0;34m.\u001b[0m\u001b[0mtop\u001b[0m\u001b[0;34m;\u001b[0m\u001b[0mvloss\u001b[0m \u001b[0;34m=\u001b[0m \u001b[0mvloss\u001b[0m \u001b[0;34m+\u001b[0m \u001b[0mloss\u001b[0m\u001b[0;34m.\u001b[0m\u001b[0mtop\u001b[0m\u001b[0;34m\u001b[0m\u001b[0;34m\u001b[0m\u001b[0m\n\u001b[1;32m     22\u001b[0m     \u001b[0mvloss\u001b[0m \u001b[0;34m=\u001b[0m \u001b[0mvloss\u001b[0m \u001b[0;34m/\u001b[0m \u001b[0mviter\u001b[0m\u001b[0;34m;\u001b[0m \u001b[0mvacc\u001b[0m \u001b[0;34m=\u001b[0m \u001b[0mvacc\u001b[0m \u001b[0;34m/\u001b[0m \u001b[0mviter\u001b[0m \u001b[0;34m*\u001b[0m \u001b[0;36m100\u001b[0m\u001b[0;34m\u001b[0m\u001b[0;34m\u001b[0m\u001b[0m\n",
      "\u001b[0;32m~/Documents/Study/ConvNet/autograd.py\u001b[0m in \u001b[0;36mForward\u001b[0;34m()\u001b[0m\n\u001b[1;32m     11\u001b[0m \u001b[0;31m# Global forward\u001b[0m\u001b[0;34m\u001b[0m\u001b[0;34m\u001b[0m\u001b[0;34m\u001b[0m\u001b[0m\n\u001b[1;32m     12\u001b[0m \u001b[0;32mdef\u001b[0m \u001b[0mForward\u001b[0m\u001b[0;34m(\u001b[0m\u001b[0;34m)\u001b[0m\u001b[0;34m:\u001b[0m\u001b[0;34m\u001b[0m\u001b[0;34m\u001b[0m\u001b[0m\n\u001b[0;32m---> 13\u001b[0;31m     \u001b[0;32mfor\u001b[0m \u001b[0mc\u001b[0m \u001b[0;32min\u001b[0m \u001b[0mops\u001b[0m\u001b[0;34m:\u001b[0m \u001b[0mc\u001b[0m\u001b[0;34m.\u001b[0m\u001b[0mforward\u001b[0m\u001b[0;34m(\u001b[0m\u001b[0;34m)\u001b[0m\u001b[0;34m\u001b[0m\u001b[0;34m\u001b[0m\u001b[0m\n\u001b[0m\u001b[1;32m     14\u001b[0m \u001b[0;34m\u001b[0m\u001b[0m\n\u001b[1;32m     15\u001b[0m \u001b[0;31m# Global backward\u001b[0m\u001b[0;34m\u001b[0m\u001b[0;34m\u001b[0m\u001b[0;34m\u001b[0m\u001b[0m\n",
      "\u001b[0;32m~/Documents/Study/ConvNet/autograd.py\u001b[0m in \u001b[0;36mforward\u001b[0;34m(self)\u001b[0m\n\u001b[1;32m     91\u001b[0m \u001b[0;34m\u001b[0m\u001b[0m\n\u001b[1;32m     92\u001b[0m     \u001b[0;32mdef\u001b[0m \u001b[0mforward\u001b[0m\u001b[0;34m(\u001b[0m\u001b[0mself\u001b[0m\u001b[0;34m)\u001b[0m\u001b[0;34m:\u001b[0m\u001b[0;34m\u001b[0m\u001b[0;34m\u001b[0m\u001b[0m\n\u001b[0;32m---> 93\u001b[0;31m         \u001b[0mself\u001b[0m\u001b[0;34m.\u001b[0m\u001b[0mtop\u001b[0m \u001b[0;34m=\u001b[0m \u001b[0mnp\u001b[0m\u001b[0;34m.\u001b[0m\u001b[0mmatmul\u001b[0m\u001b[0;34m(\u001b[0m\u001b[0mself\u001b[0m\u001b[0;34m.\u001b[0m\u001b[0mx\u001b[0m\u001b[0;34m.\u001b[0m\u001b[0mtop\u001b[0m\u001b[0;34m,\u001b[0m\u001b[0mself\u001b[0m\u001b[0;34m.\u001b[0m\u001b[0my\u001b[0m\u001b[0;34m.\u001b[0m\u001b[0mtop\u001b[0m\u001b[0;34m)\u001b[0m\u001b[0;34m\u001b[0m\u001b[0;34m\u001b[0m\u001b[0m\n\u001b[0m\u001b[1;32m     94\u001b[0m \u001b[0;34m\u001b[0m\u001b[0m\n\u001b[1;32m     95\u001b[0m     \u001b[0;32mdef\u001b[0m \u001b[0mbackward\u001b[0m\u001b[0;34m(\u001b[0m\u001b[0mself\u001b[0m\u001b[0;34m)\u001b[0m\u001b[0;34m:\u001b[0m\u001b[0;34m\u001b[0m\u001b[0;34m\u001b[0m\u001b[0m\n",
      "\u001b[0;31mAttributeError\u001b[0m: 'Value' object has no attribute 'top'"
     ]
    }
   ],
   "source": [
    "# Training loop\n",
    "BSZ=64\n",
    "lr=0.001\n",
    "\n",
    "NUM_EPOCH=50\n",
    "DISPITER=100\n",
    "batches = range(0,len(train_lb)-BSZ+1,BSZ)\n",
    "\n",
    "## Implement Momentum and uncomment following line\n",
    "autograd.init_momentum()\n",
    "\n",
    "\n",
    "niter=0; avg_loss = 0.; avg_acc = 0.\n",
    "for ep in range(NUM_EPOCH+1):\n",
    "\n",
    "    # As we train, let's keep track of val accuracy\n",
    "    vacc = 0.; vloss = 0.; viter = 0\n",
    "    for b in range(0,len(val_lb)-BSZ+1,BSZ):\n",
    "        inp.set(val_im[b:b+BSZ,:]); lab.set(val_lb[b:b+BSZ])\n",
    "        autograd.Forward()\n",
    "        viter = viter + 1;vacc = vacc + acc.top;vloss = vloss + loss.top\n",
    "    vloss = vloss / viter; vacc = vacc / viter * 100\n",
    "    print(\"%09d: #### %d Epochs: Val Loss = %.3e, Accuracy = %.2f%%\" % (niter,ep,vloss,vacc))\n",
    "    if ep == NUM_EPOCH:\n",
    "        break\n",
    "\n",
    "    # Shuffle Training Set\n",
    "    idx = np.random.permutation(len(train_lb))\n",
    "\n",
    "    # Train one epoch\n",
    "    for b in batches:\n",
    "        # Load a batch\n",
    "        inp.set(train_im[idx[b:b+BSZ],:])\n",
    "        lab.set(train_lb[idx[b:b+BSZ]])\n",
    "\n",
    "        autograd.Forward()\n",
    "        avg_loss = avg_loss + loss.top; avg_acc = avg_acc + acc.top;\n",
    "        niter = niter + 1\n",
    "        if niter % DISPITER == 0:\n",
    "            avg_loss = avg_loss / DISPITER; avg_acc = avg_acc / DISPITER * 100\n",
    "            print(\"%09d: Training Loss = %.3e, Accuracy = %.2f%%\" % (niter,avg_loss,avg_acc))\n",
    "            avg_loss = 0.; avg_acc = 0.;\n",
    "\n",
    "        autograd.Backward(loss)\n",
    "        autograd.momentum(lr,0.9)"
   ]
  },
  {
   "cell_type": "code",
   "execution_count": null,
   "metadata": {},
   "outputs": [],
   "source": []
  }
 ],
 "metadata": {
  "interpreter": {
   "hash": "6d6c92937dd838d4d5cad6b45cdc6deca670360475776cd4b2b4a79e3865f5ea"
  },
  "kernelspec": {
   "display_name": "Python 3",
   "language": "python",
   "name": "python3"
  },
  "language_info": {
   "codemirror_mode": {
    "name": "ipython",
    "version": 3
   },
   "file_extension": ".py",
   "mimetype": "text/x-python",
   "name": "python",
   "nbconvert_exporter": "python",
   "pygments_lexer": "ipython3",
   "version": "3.7.4"
  }
 },
 "nbformat": 4,
 "nbformat_minor": 2
}
