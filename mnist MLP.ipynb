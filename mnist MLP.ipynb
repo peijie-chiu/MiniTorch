{
 "cells": [
  {
   "cell_type": "code",
   "execution_count": 1,
   "source": [
    "import numpy as np\n",
    "from os.path import normpath as fn # Fix Linux/Windows path issue\n",
    "import sys\n",
    "sys.path.append(\"nn\") # add the nn module into system path\n",
    "\n",
    "from nn.container import Placeholder, Sequential\n",
    "from nn.solver import Momentum\n",
    "from nn.loss import SmaxCELoss, accuracy\n",
    "from nn.graph import Graph, Seesion\n",
    "from nn import layer\n",
    "\n",
    "np.random.seed(0)"
   ],
   "outputs": [],
   "metadata": {}
  },
  {
   "cell_type": "code",
   "execution_count": 2,
   "source": [
    "# Load data\n",
    "data = np.load(fn('data/mnist_26k.npz'))\n",
    "\n",
    "train_im = np.float32(data['im_train'])/255.-0.5\n",
    "train_lb = data['lbl_train']\n",
    "\n",
    "val_im = np.float32(data['im_val'])/255.-0.5\n",
    "val_lb = data['lbl_val']"
   ],
   "outputs": [],
   "metadata": {}
  },
  {
   "cell_type": "code",
   "execution_count": 3,
   "source": [
    "###################################\n",
    "# build static computational graph\n",
    "###################################\n",
    "nHidden = 2048\n",
    "\n",
    "graph = Graph()\n",
    "graph.as_default()\n",
    "\n",
    "# placeholder for input\n",
    "inp = Placeholder()\n",
    "lab = Placeholder()\n",
    "\n",
    "model = Sequential([layer.Linear(28*28, nHidden),\n",
    "                           layer.RELU(),\n",
    "                           layer.Linear(nHidden, 10)\n",
    "                          ])\n",
    "print(model)\n",
    "\n",
    "# loss function: softmax + crossentropy\n",
    "criterion = SmaxCELoss()\n",
    "\n",
    "# build computational graph\n",
    "y = model(inp)\n",
    "\n",
    "# Cross Entropy of Soft-max\n",
    "loss = criterion(y, lab)"
   ],
   "outputs": [
    {
     "output_type": "stream",
     "name": "stdout",
     "text": [
      "(main) Sequential(\n",
      "  (0) Linear(in_features=784, out_features=2048)\n",
      "  (1) RELU()\n",
      "  (2) Linear(in_features=2048, out_features=10)\n",
      ")\n"
     ]
    }
   ],
   "metadata": {}
  },
  {
   "cell_type": "code",
   "execution_count": 4,
   "source": [
    "lr=1e-3\n",
    "NUM_EPOCH=1\n",
    "DISPITER=100\n",
    "BSZ=64\n",
    "\n",
    "optimizer = Momentum(graph.variables, lr, mom=0.9)"
   ],
   "outputs": [],
   "metadata": {}
  },
  {
   "cell_type": "code",
   "execution_count": 5,
   "source": [
    "# Training loop\n",
    "batches = range(0,len(train_lb)-BSZ+1,BSZ)\n",
    "niter, avg_loss, avg_acc=0, 0., 0.\n",
    "\n",
    "sess = Seesion()\n",
    "\n",
    "for ep in range(NUM_EPOCH+1):\n",
    "    # As we train, let's keep track of val accuracy\n",
    "    sess.eval()\n",
    "    vacc, vloss, viter= 0., 0., 0\n",
    "    for b in range(0,len(val_lb)-BSZ+1,BSZ):\n",
    "        sess.run(loss, {inp: val_im[b:b+BSZ,:], lab:val_lb[b:b+BSZ]})\n",
    "        vacc += accuracy(y.top, val_lb[b:b+BSZ])\n",
    "        viter += 1\n",
    "        vloss += loss.top\n",
    "    vloss, vacc = vloss / viter, vacc / viter * 100\n",
    "    print(\"%09d: #### %d Epochs: Val Loss = %.3e, Accuracy = %.2f%%\" % (niter,ep,vloss,vacc))\n",
    "    if ep == NUM_EPOCH:\n",
    "        break\n",
    "\n",
    "    # Shuffle Training Set\n",
    "    idx = np.random.permutation(len(train_lb))\n",
    "\n",
    "    # Train one epoch\n",
    "    sess.train()\n",
    "    for b in batches:\n",
    "        # Load a batch\n",
    "        sess.run(loss, {inp: train_im[idx[b:b+BSZ],:], lab:train_lb[idx[b:b+BSZ]]})\n",
    "        avg_loss += loss.top \n",
    "        avg_acc += accuracy(y.top, train_lb[idx[b:b+BSZ]])\n",
    "        niter += 1\n",
    "        if niter % DISPITER == 0:\n",
    "            avg_loss = avg_loss / DISPITER\n",
    "            avg_acc = avg_acc / DISPITER * 100\n",
    "            print(\"%09d: Training Loss = %.3e, Accuracy = %.2f%%\" % (niter,avg_loss,avg_acc))\n",
    "            avg_loss, avg_acc = 0., 0.\n",
    "\n",
    "        optimizer.step()"
   ],
   "outputs": [
    {
     "output_type": "stream",
     "name": "stdout",
     "text": [
      "000000000: #### 0 Epochs: Val Loss = 2.316e+00, Accuracy = 12.92%\n",
      "000000100: Training Loss = 1.769e+00, Accuracy = 55.66%\n",
      "000000200: Training Loss = 1.061e+00, Accuracy = 79.69%\n",
      "000000300: Training Loss = 7.699e-01, Accuracy = 84.88%\n",
      "000000390: #### 1 Epochs: Val Loss = 5.632e-01, Accuracy = 88.12%\n"
     ]
    }
   ],
   "metadata": {}
  },
  {
   "cell_type": "code",
   "execution_count": null,
   "source": [],
   "outputs": [],
   "metadata": {}
  }
 ],
 "metadata": {
  "interpreter": {
   "hash": "6d6c92937dd838d4d5cad6b45cdc6deca670360475776cd4b2b4a79e3865f5ea"
  },
  "kernelspec": {
   "name": "python3",
   "display_name": "Python 3.7.7 64-bit ('pytorch': conda)"
  },
  "language_info": {
   "codemirror_mode": {
    "name": "ipython",
    "version": 3
   },
   "file_extension": ".py",
   "mimetype": "text/x-python",
   "name": "python",
   "nbconvert_exporter": "python",
   "pygments_lexer": "ipython3",
   "version": "3.7.7"
  }
 },
 "nbformat": 4,
 "nbformat_minor": 2
}