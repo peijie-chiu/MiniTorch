{
 "cells": [
  {
   "cell_type": "code",
   "execution_count": 1,
   "metadata": {},
   "outputs": [],
   "source": [
    "import numpy as np\n",
    "from os.path import normpath as fn\n",
    "import autograd \n",
    "import layers\n",
    "\n",
    "np.random.seed(0)"
   ]
  },
  {
   "cell_type": "code",
   "execution_count": 2,
   "metadata": {},
   "outputs": [],
   "source": [
    "# Load data\n",
    "data = np.load(fn('data/mnist_26k.npz'))\n",
    "\n",
    "train_im = np.float32(data['im_train'])/255.-0.5\n",
    "train_lb = data['lbl_train']\n",
    "\n",
    "val_im = np.float32(data['im_val'])/255.-0.5\n",
    "val_lb = data['lbl_val']"
   ]
  },
  {
   "cell_type": "code",
   "execution_count": 3,
   "metadata": {},
   "outputs": [
    {
     "name": "stdout",
     "output_type": "stream",
     "text": [
      "Sequential(\n",
      "  (0) Linear(784, 2048)\n",
      "  (1) RELU()\n",
      "  (2) Linear(2048, 10)\n",
      ")\n"
     ]
    }
   ],
   "source": [
    "###################################\n",
    "# build static computational graph\n",
    "###################################\n",
    "nHidden = 2048\n",
    "\n",
    "# placeholder for input\n",
    "inp = autograd.Value()\n",
    "lab = autograd.Value()\n",
    "\n",
    "model = layers.Sequential([layers.Linear(28*28, nHidden),\n",
    "                           layers.RELU(),\n",
    "                           layers.Linear(nHidden, 10)\n",
    "                          ])\n",
    "print(model)\n",
    "\n",
    "# loss function: softmax + crossentropy\n",
    "smaxloss = layers.SmaxCELoss()\n",
    "accuracy = layers.Accuracy()\n",
    "\n",
    "# build computational graph\n",
    "y = model(inp)\n",
    "\n",
    "# Cross Entropy of Soft-max\n",
    "loss = smaxloss(y,lab)\n",
    "\n",
    "# Accuracy\n",
    "acc = accuracy(y,lab)"
   ]
  },
  {
   "cell_type": "code",
   "execution_count": 5,
   "metadata": {},
   "outputs": [
    {
     "name": "stdout",
     "output_type": "stream",
     "text": [
      "000000000: #### 0 Epochs: Val Loss = 5.271e-01, Accuracy = 88.44%\n",
      "000000100: Training Loss = 5.530e-01, Accuracy = 86.44%\n",
      "000000200: Training Loss = 5.063e-01, Accuracy = 87.27%\n",
      "000000300: Training Loss = 4.849e-01, Accuracy = 87.61%\n",
      "000000390: #### 1 Epochs: Val Loss = 3.998e-01, Accuracy = 90.10%\n",
      "000000400: Training Loss = 4.525e-01, Accuracy = 88.19%\n",
      "000000500: Training Loss = 4.380e-01, Accuracy = 88.48%\n",
      "000000600: Training Loss = 4.287e-01, Accuracy = 88.47%\n",
      "000000700: Training Loss = 4.206e-01, Accuracy = 88.30%\n",
      "000000780: #### 2 Epochs: Val Loss = 3.502e-01, Accuracy = 91.56%\n",
      "000000800: Training Loss = 3.963e-01, Accuracy = 89.19%\n",
      "000000900: Training Loss = 3.858e-01, Accuracy = 89.61%\n",
      "000001000: Training Loss = 3.750e-01, Accuracy = 89.53%\n",
      "000001100: Training Loss = 3.839e-01, Accuracy = 89.25%\n",
      "000001170: #### 3 Epochs: Val Loss = 3.268e-01, Accuracy = 91.77%\n",
      "000001200: Training Loss = 3.721e-01, Accuracy = 89.84%\n",
      "000001300: Training Loss = 3.560e-01, Accuracy = 89.97%\n",
      "000001400: Training Loss = 3.534e-01, Accuracy = 90.06%\n",
      "000001500: Training Loss = 3.546e-01, Accuracy = 89.92%\n",
      "000001560: #### 4 Epochs: Val Loss = 3.105e-01, Accuracy = 91.77%\n",
      "000001600: Training Loss = 3.532e-01, Accuracy = 90.20%\n",
      "000001700: Training Loss = 3.459e-01, Accuracy = 90.45%\n",
      "000001800: Training Loss = 3.345e-01, Accuracy = 91.05%\n",
      "000001900: Training Loss = 3.342e-01, Accuracy = 90.39%\n",
      "000001950: #### 5 Epochs: Val Loss = 2.940e-01, Accuracy = 92.19%\n",
      "000002000: Training Loss = 3.248e-01, Accuracy = 90.56%\n",
      "000002100: Training Loss = 3.294e-01, Accuracy = 90.56%\n",
      "000002200: Training Loss = 3.172e-01, Accuracy = 91.08%\n",
      "000002300: Training Loss = 3.378e-01, Accuracy = 90.59%\n",
      "000002340: #### 6 Epochs: Val Loss = 2.823e-01, Accuracy = 92.29%\n",
      "000002400: Training Loss = 3.107e-01, Accuracy = 91.33%\n",
      "000002500: Training Loss = 3.292e-01, Accuracy = 90.86%\n",
      "000002600: Training Loss = 3.005e-01, Accuracy = 91.12%\n",
      "000002700: Training Loss = 3.147e-01, Accuracy = 91.16%\n",
      "000002730: #### 7 Epochs: Val Loss = 2.784e-01, Accuracy = 92.60%\n",
      "000002800: Training Loss = 3.037e-01, Accuracy = 91.64%\n",
      "000002900: Training Loss = 3.074e-01, Accuracy = 91.19%\n",
      "000003000: Training Loss = 3.051e-01, Accuracy = 91.09%\n",
      "000003100: Training Loss = 2.917e-01, Accuracy = 91.73%\n",
      "000003120: #### 8 Epochs: Val Loss = 2.691e-01, Accuracy = 92.81%\n",
      "000003200: Training Loss = 2.999e-01, Accuracy = 91.48%\n",
      "000003300: Training Loss = 2.991e-01, Accuracy = 91.61%\n",
      "000003400: Training Loss = 3.073e-01, Accuracy = 91.03%\n",
      "000003500: Training Loss = 2.764e-01, Accuracy = 92.31%\n",
      "000003510: #### 9 Epochs: Val Loss = 2.660e-01, Accuracy = 92.60%\n",
      "000003600: Training Loss = 2.793e-01, Accuracy = 91.78%\n",
      "000003700: Training Loss = 2.821e-01, Accuracy = 92.17%\n",
      "000003800: Training Loss = 3.004e-01, Accuracy = 91.28%\n",
      "000003900: Training Loss = 2.865e-01, Accuracy = 91.75%\n",
      "000003900: #### 10 Epochs: Val Loss = 2.570e-01, Accuracy = 93.02%\n"
     ]
    }
   ],
   "source": [
    "# Training loop\r\n",
    "BSZ=64\r\n",
    "lr=0.001\r\n",
    "\r\n",
    "NUM_EPOCH=10\r\n",
    "DISPITER=100\r\n",
    "batches = range(0,len(train_lb)-BSZ+1,BSZ)\r\n",
    "\r\n",
    "autograd.init_momentum()\r\n",
    "\r\n",
    "\r\n",
    "niter, avg_loss, avg_acc=0, 0., 0.\r\n",
    "for ep in range(NUM_EPOCH+1):\r\n",
    "    # As we train, let's keep track of val accuracy\r\n",
    "    vacc, vloss, viter= 0., 0., 0\r\n",
    "    for b in range(0,len(val_lb)-BSZ+1,BSZ):\r\n",
    "        inp.set(val_im[b:b+BSZ,:])\r\n",
    "        lab.set(val_lb[b:b+BSZ])\r\n",
    "        autograd.Forward()\r\n",
    "        viter += 1\r\n",
    "        vacc += acc.top\r\n",
    "        vloss += loss.top\r\n",
    "    vloss, vacc = vloss / viter, vacc / viter * 100\r\n",
    "    print(\"%09d: #### %d Epochs: Val Loss = %.3e, Accuracy = %.2f%%\" % (niter,ep,vloss,vacc))\r\n",
    "    if ep == NUM_EPOCH:\r\n",
    "        break\r\n",
    "\r\n",
    "    # Shuffle Training Set\r\n",
    "    idx = np.random.permutation(len(train_lb))\r\n",
    "\r\n",
    "    # Train one epoch\r\n",
    "    for b in batches:\r\n",
    "        # Load a batch\r\n",
    "        inp.set(train_im[idx[b:b+BSZ],:])\r\n",
    "        lab.set(train_lb[idx[b:b+BSZ]])\r\n",
    "\r\n",
    "        autograd.Forward()\r\n",
    "        avg_loss += loss.top \r\n",
    "        avg_acc += acc.top\r\n",
    "        niter += 1\r\n",
    "        if niter % DISPITER == 0:\r\n",
    "            avg_loss = avg_loss / DISPITER\r\n",
    "            avg_acc = avg_acc / DISPITER * 100\r\n",
    "            print(\"%09d: Training Loss = %.3e, Accuracy = %.2f%%\" % (niter,avg_loss,avg_acc))\r\n",
    "            avg_loss, avg_acc = 0., 0.\r\n",
    "\r\n",
    "        autograd.Backward(loss)\r\n",
    "        autograd.momentum(lr,0.9)"
   ]
  },
  {
   "cell_type": "code",
   "execution_count": null,
   "metadata": {},
   "outputs": [],
   "source": []
  }
 ],
 "metadata": {
  "interpreter": {
   "hash": "6d6c92937dd838d4d5cad6b45cdc6deca670360475776cd4b2b4a79e3865f5ea"
  },
  "kernelspec": {
   "display_name": "Python 3",
   "language": "python",
   "name": "python3"
  },
  "language_info": {
   "codemirror_mode": {
    "name": "ipython",
    "version": 3
   },
   "file_extension": ".py",
   "mimetype": "text/x-python",
   "name": "python",
   "nbconvert_exporter": "python",
   "pygments_lexer": "ipython3",
   "version": "3.9.2"
  }
 },
 "nbformat": 4,
 "nbformat_minor": 2
}