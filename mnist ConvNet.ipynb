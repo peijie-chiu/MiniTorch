{
 "cells": [
  {
   "cell_type": "code",
   "execution_count": 1,
   "source": [
    "import numpy as np\n",
    "from os.path import normpath as fn # Fix Linux/Windows path issue\n",
    "import sys\n",
    "sys.path.append(\"nn\") # add the nn module into system path\n",
    "\n",
    "import nn.layer as layer\n",
    "import nn.graph as graph\n",
    "import nn.solver as solver\n",
    "import nn.container as container\n",
    "import nn.loss as loss\n",
    "\n",
    "np.random.seed(0)"
   ],
   "outputs": [],
   "metadata": {}
  },
  {
   "cell_type": "code",
   "execution_count": 2,
   "source": [
    "# Load data\n",
    "data = np.load(fn('data/mnist_26k.npz'))\n",
    "train_im = np.float32(data['im_train'])/255.-0.5\n",
    "train_im = np.reshape(train_im,[-1,28,28,1])\n",
    "train_lb = data['lbl_train']\n",
    "\n",
    "val_im = np.float32(data['im_val'])/255.-0.5\n",
    "val_im = np.reshape(val_im,[-1,28,28,1])\n",
    "val_lb = data['lbl_val']"
   ],
   "outputs": [],
   "metadata": {}
  },
  {
   "cell_type": "code",
   "execution_count": 3,
   "source": [
    "###################################\n",
    "# build static computational graph\n",
    "###################################\n",
    "C1 = 8\n",
    "C2 = 16\n",
    "\n",
    "# placeholder for input\n",
    "inp = layer.Tensor()\n",
    "lab = layer.Tensor()\n",
    "\n",
    "model = container.Sequential([layer.Conv2d(1, C1, kernel_size=3, stride=2, padding=1, bias=True),\n",
    "                           layer.RELU(),\n",
    "                           layer.Conv2d(C1, C2, kernel_size=3, stride=2, padding=1, bias=True),\n",
    "                           layer.RELU(),\n",
    "                        #    layers.Dropout(0.2),\n",
    "                           layer.Flatten(),\n",
    "                           layer.Linear(C2*49 , 10)\n",
    "                          ])\n",
    "print(model)\n",
    "\n",
    "# loss function: softmax + crossentropy\n",
    "smaxloss = loss.SmaxCELoss()\n",
    "accuracy = loss.Accuracy()\n",
    "\n",
    "# build computational graph\n",
    "y = model(inp)\n",
    "\n",
    "# Cross Entropy of Soft-max\n",
    "criterion = smaxloss(y,lab)\n",
    "\n",
    "# Accuracy\n",
    "acc = accuracy(y,lab)"
   ],
   "outputs": [
    {
     "output_type": "stream",
     "name": "stdout",
     "text": [
      "Sequential(\n",
      "  (0) Conv2d(in_channels=1, out_channels=8, kernel_size=3, stride=2, padding=1, bias=True)\n",
      "  (1) RELU()\n",
      "  (2) Conv2d(in_channels=8, out_channels=16, kernel_size=3, stride=2, padding=1, bias=True)\n",
      "  (3) RELU()\n",
      "  (4) Flatten()\n",
      "  (5) Linear(in_features=784, out_features=10)\n",
      ")\n"
     ]
    }
   ],
   "metadata": {}
  },
  {
   "cell_type": "code",
   "execution_count": 4,
   "source": [
    "lr=0.01\n",
    "NUM_EPOCH=10\n",
    "DISPITER=100\n",
    "BSZ=64\n",
    "\n",
    "optimizer = solver.Momentum(graph.params, lr, mom=0.9)"
   ],
   "outputs": [],
   "metadata": {}
  },
  {
   "cell_type": "code",
   "execution_count": 5,
   "source": [
    "# Training loop\n",
    "batches = range(0,len(train_lb)-BSZ+1,BSZ)\n",
    "niter, avg_loss, avg_acc=0, 0., 0.\n",
    "\n",
    "for ep in range(NUM_EPOCH+1):\n",
    "\n",
    "    # As we train, let's keep track of val accuracy\n",
    "    vacc, vloss, viter= 0., 0., 0\n",
    "    for b in range(0,len(val_lb)-BSZ+1,BSZ):\n",
    "        inp.set(val_im[b:b+BSZ,...])\n",
    "        lab.set(val_lb[b:b+BSZ])\n",
    "        graph.Forward()\n",
    "        viter += 1\n",
    "        vacc += acc.top\n",
    "        vloss += criterion.top\n",
    "    vloss, vacc = vloss / viter, vacc / viter * 100\n",
    "    print(\"%09d: #### %d Epochs: Val Loss = %.3e, Accuracy = %.2f%%\" % (niter,ep,vloss,vacc))\n",
    "    if ep == NUM_EPOCH:\n",
    "        break\n",
    "\n",
    "    # Shuffle Training Set\n",
    "    idx = np.random.permutation(len(train_lb))\n",
    "\n",
    "    # Train one epoch\n",
    "    for b in batches:\n",
    "        # Load a batch\n",
    "        inp.set(train_im[idx[b:b+BSZ],...])\n",
    "        lab.set(train_lb[idx[b:b+BSZ]])\n",
    "\n",
    "        graph.Forward()\n",
    "        avg_loss += criterion.top \n",
    "        avg_acc += acc.top\n",
    "        niter += 1\n",
    "        if niter % DISPITER == 0:\n",
    "            avg_loss = avg_loss / DISPITER\n",
    "            avg_acc = avg_acc / DISPITER * 100\n",
    "            print(\"%09d: Training Loss = %.3e, Accuracy = %.2f%%\" % (niter,avg_loss,avg_acc))\n",
    "            avg_loss, avg_acc = 0., 0.\n",
    "\n",
    "        graph.Backward(criterion)\n",
    "        optimizer.step()\n",
    "        "
   ],
   "outputs": [
    {
     "output_type": "stream",
     "name": "stdout",
     "text": [
      "000000000: #### 0 Epochs: Val Loss = 2.312e+00, Accuracy = 12.29%\n",
      "000000100: Training Loss = 1.857e+00, Accuracy = 51.67%\n",
      "000000200: Training Loss = 9.819e-01, Accuracy = 78.08%\n",
      "000000300: Training Loss = 7.238e-01, Accuracy = 82.52%\n",
      "000000390: #### 1 Epochs: Val Loss = 5.416e-01, Accuracy = 88.23%\n",
      "000000400: Training Loss = 6.324e-01, Accuracy = 85.06%\n",
      "000000500: Training Loss = 5.894e-01, Accuracy = 86.08%\n",
      "000000600: Training Loss = 5.773e-01, Accuracy = 85.88%\n",
      "000000700: Training Loss = 5.048e-01, Accuracy = 87.19%\n",
      "000000780: #### 2 Epochs: Val Loss = 4.069e-01, Accuracy = 90.10%\n",
      "000000800: Training Loss = 4.703e-01, Accuracy = 87.98%\n",
      "000000900: Training Loss = 4.750e-01, Accuracy = 87.55%\n",
      "000001000: Training Loss = 4.683e-01, Accuracy = 88.06%\n",
      "000001100: Training Loss = 4.450e-01, Accuracy = 88.22%\n",
      "000001170: #### 3 Epochs: Val Loss = 4.003e-01, Accuracy = 90.00%\n",
      "000001200: Training Loss = 4.454e-01, Accuracy = 88.56%\n",
      "000001300: Training Loss = 4.583e-01, Accuracy = 87.94%\n",
      "000001400: Training Loss = 4.498e-01, Accuracy = 88.55%\n",
      "000001500: Training Loss = 4.442e-01, Accuracy = 88.86%\n",
      "000001560: #### 4 Epochs: Val Loss = 4.011e-01, Accuracy = 91.04%\n",
      "000001600: Training Loss = 4.633e-01, Accuracy = 88.00%\n",
      "000001700: Training Loss = 4.317e-01, Accuracy = 88.97%\n",
      "000001800: Training Loss = 4.414e-01, Accuracy = 88.59%\n",
      "000001900: Training Loss = 4.334e-01, Accuracy = 88.58%\n",
      "000001950: #### 5 Epochs: Val Loss = 3.777e-01, Accuracy = 90.42%\n",
      "000002000: Training Loss = 4.274e-01, Accuracy = 88.70%\n",
      "000002100: Training Loss = 3.752e-01, Accuracy = 89.56%\n",
      "000002200: Training Loss = 4.003e-01, Accuracy = 89.06%\n",
      "000002300: Training Loss = 3.828e-01, Accuracy = 89.84%\n",
      "000002340: #### 6 Epochs: Val Loss = 3.589e-01, Accuracy = 90.52%\n",
      "000002400: Training Loss = 4.077e-01, Accuracy = 88.89%\n",
      "000002500: Training Loss = 3.897e-01, Accuracy = 89.62%\n",
      "000002600: Training Loss = 3.849e-01, Accuracy = 89.58%\n",
      "000002700: Training Loss = 4.118e-01, Accuracy = 88.67%\n",
      "000002730: #### 7 Epochs: Val Loss = 3.357e-01, Accuracy = 90.73%\n",
      "000002800: Training Loss = 3.804e-01, Accuracy = 89.20%\n",
      "000002900: Training Loss = 3.670e-01, Accuracy = 90.05%\n",
      "000003000: Training Loss = 3.491e-01, Accuracy = 90.08%\n",
      "000003100: Training Loss = 3.510e-01, Accuracy = 90.06%\n",
      "000003120: #### 8 Epochs: Val Loss = 3.053e-01, Accuracy = 91.35%\n",
      "000003200: Training Loss = 3.956e-01, Accuracy = 89.31%\n",
      "000003300: Training Loss = 3.641e-01, Accuracy = 90.03%\n",
      "000003400: Training Loss = 3.619e-01, Accuracy = 89.84%\n",
      "000003500: Training Loss = 3.579e-01, Accuracy = 89.95%\n",
      "000003510: #### 9 Epochs: Val Loss = 3.019e-01, Accuracy = 91.98%\n",
      "000003600: Training Loss = 3.558e-01, Accuracy = 90.17%\n",
      "000003700: Training Loss = 3.548e-01, Accuracy = 90.23%\n",
      "000003800: Training Loss = 3.893e-01, Accuracy = 89.81%\n",
      "000003900: Training Loss = 3.998e-01, Accuracy = 89.03%\n",
      "000003900: #### 10 Epochs: Val Loss = 3.343e-01, Accuracy = 91.56%\n"
     ]
    }
   ],
   "metadata": {}
  },
  {
   "cell_type": "code",
   "execution_count": null,
   "source": [],
   "outputs": [],
   "metadata": {}
  }
 ],
 "metadata": {
  "interpreter": {
   "hash": "6d6c92937dd838d4d5cad6b45cdc6deca670360475776cd4b2b4a79e3865f5ea"
  },
  "kernelspec": {
   "name": "python3",
   "display_name": "Python 3.7.7 64-bit ('pytorch': conda)"
  },
  "language_info": {
   "codemirror_mode": {
    "name": "ipython",
    "version": 3
   },
   "file_extension": ".py",
   "mimetype": "text/x-python",
   "name": "python",
   "nbconvert_exporter": "python",
   "pygments_lexer": "ipython3",
   "version": "3.7.7"
  }
 },
 "nbformat": 4,
 "nbformat_minor": 2
}