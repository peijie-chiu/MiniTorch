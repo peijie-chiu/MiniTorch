{
 "cells": [
  {
   "cell_type": "code",
   "execution_count": 1,
   "source": [
    "import numpy as np\n",
    "from os.path import normpath as fn # Fix Linux/Windows path issue\n",
    "import sys\n",
    "sys.path.append(\"nn\") # add the nn module into system path\n",
    "\n",
    "from nn.container import Placeholder, Sequential\n",
    "from nn.solver import Adam\n",
    "from nn.loss import SmaxCELoss, accuracy\n",
    "from nn.graph import Graph, Seesion\n",
    "from nn import layer\n",
    "\n",
    "np.random.seed(0)"
   ],
   "outputs": [],
   "metadata": {}
  },
  {
   "cell_type": "code",
   "execution_count": 2,
   "source": [
    "# Load data\n",
    "data = np.load(fn('data/mnist_26k.npz'))\n",
    "train_im = np.float32(data['im_train'])/255.-0.5\n",
    "train_im = np.reshape(train_im,[-1,28,28,1])\n",
    "train_lb = data['lbl_train']\n",
    "\n",
    "val_im = np.float32(data['im_val'])/255.-0.5\n",
    "val_im = np.reshape(val_im,[-1,28,28,1])\n",
    "val_lb = data['lbl_val']"
   ],
   "outputs": [],
   "metadata": {}
  },
  {
   "cell_type": "code",
   "execution_count": 3,
   "source": [
    "###################################\n",
    "# build static computational graph\n",
    "###################################\n",
    "C1 = 8\n",
    "C2 = 16\n",
    "\n",
    "graph = Graph()\n",
    "graph.as_default()\n",
    "\n",
    "# placeholder for input\n",
    "inp = Placeholder()\n",
    "lab = Placeholder()\n",
    "\n",
    "model = Sequential([layer.Conv2d(1, C1, kernel_size=3, stride=1, padding=1, bias=True),\n",
    "                           layer.RELU(),\n",
    "                           layer.Maxpool2d(),\n",
    "                           layer.Conv2d(C1, C2, kernel_size=3, stride=1, padding=1, bias=True),\n",
    "                           layer.RELU(),\n",
    "                           layer.Maxpool2d(),\n",
    "                        #    layer.Dropout(0.3),\n",
    "                           layer.Flatten(),\n",
    "                           layer.Linear(C2*49 , 10)\n",
    "                          ])\n",
    "print(model)\n",
    "\n",
    "# loss function: softmax + crossentropy\n",
    "criterion = SmaxCELoss()\n",
    "\n",
    "# build computational graph\n",
    "y = model(inp)\n",
    "\n",
    "# Cross Entropy of Soft-max\n",
    "loss = criterion(y, lab)"
   ],
   "outputs": [
    {
     "output_type": "stream",
     "name": "stdout",
     "text": [
      "(main) Sequential(\n",
      "  (0) Conv2d(in_channels=1, out_channels=8, kernel_size=3, stride=1, padding=1, bias=True)\n",
      "  (1) RELU()\n",
      "  (2) Maxpool2d(kernel_size=2, stride=2)\n",
      "  (3) Conv2d(in_channels=8, out_channels=16, kernel_size=3, stride=1, padding=1, bias=True)\n",
      "  (4) RELU()\n",
      "  (5) Maxpool2d(kernel_size=2, stride=2)\n",
      "  (6) Flatten()\n",
      "  (7) Linear(in_features=784, out_features=10)\n",
      ")\n"
     ]
    }
   ],
   "metadata": {}
  },
  {
   "cell_type": "code",
   "execution_count": 4,
   "source": [
    "lr=1e-3\n",
    "NUM_EPOCH=10\n",
    "DISPITER=100\n",
    "BSZ=64\n",
    "\n",
    "optimizer = Adam(graph.variables, lr)"
   ],
   "outputs": [],
   "metadata": {}
  },
  {
   "cell_type": "code",
   "execution_count": 5,
   "source": [
    "# Training loop\n",
    "batches = range(0,len(train_lb)-BSZ+1,BSZ)\n",
    "niter, avg_loss, avg_acc=0, 0., 0.\n",
    "\n",
    "sess = Seesion()\n",
    "for ep in range(NUM_EPOCH+1):\n",
    "    sess.eval()\n",
    "    # As we train, let's keep track of val accuracy\n",
    "    vacc, vloss, viter= 0., 0., 0\n",
    "    for b in range(0,len(val_lb)-BSZ+1,BSZ):\n",
    "        sess.run(loss, {inp: val_im[b:b+BSZ,...], lab:val_lb[b:b+BSZ]})\n",
    "        viter += 1\n",
    "        vacc += accuracy(y.top, val_lb[b:b+BSZ])\n",
    "        vloss += loss.top\n",
    "    vloss, vacc = vloss / viter, vacc / viter * 100\n",
    "    print(\"%09d: #### %d Epochs: Val Loss = %.3e, Accuracy = %.2f%%\" % (niter,ep,vloss,vacc))\n",
    "    if ep == NUM_EPOCH:\n",
    "        break\n",
    "    \n",
    "    # Shuffle Training Set\n",
    "    idx = np.random.permutation(len(train_lb))\n",
    "\n",
    "    sess.train()\n",
    "    # Train one epoch\n",
    "    for b in batches:\n",
    "        # Load a batch\n",
    "        sess.run(loss, {inp: train_im[idx[b:b+BSZ],...], lab: train_lb[idx[b:b+BSZ]]})\n",
    "        avg_loss += loss.top \n",
    "        avg_acc += accuracy(y.top, train_lb[idx[b:b+BSZ]])\n",
    "        niter += 1\n",
    "        if niter % DISPITER == 0:\n",
    "            avg_loss = avg_loss / DISPITER\n",
    "            avg_acc = avg_acc / DISPITER * 100\n",
    "            print(\"%09d: Training Loss = %.3e, Accuracy = %.2f%%\" % (niter,avg_loss,avg_acc))\n",
    "            avg_loss, avg_acc = 0., 0.\n",
    "\n",
    "        optimizer.step(niter)"
   ],
   "outputs": [
    {
     "output_type": "stream",
     "name": "stdout",
     "text": [
      "000000000: #### 0 Epochs: Val Loss = 2.340e+00, Accuracy = 11.04%\n",
      "000000100: Training Loss = 2.336e+00, Accuracy = 11.05%\n",
      "000000200: Training Loss = 2.317e+00, Accuracy = 11.62%\n",
      "000000300: Training Loss = 2.311e+00, Accuracy = 12.33%\n",
      "000000390: #### 1 Epochs: Val Loss = 2.282e+00, Accuracy = 14.48%\n",
      "000000400: Training Loss = 2.289e+00, Accuracy = 14.27%\n",
      "000000500: Training Loss = 2.271e+00, Accuracy = 15.62%\n",
      "000000600: Training Loss = 2.253e+00, Accuracy = 17.44%\n",
      "000000700: Training Loss = 2.231e+00, Accuracy = 24.38%\n",
      "000000780: #### 2 Epochs: Val Loss = 2.198e+00, Accuracy = 36.25%\n",
      "000000800: Training Loss = 2.207e+00, Accuracy = 33.31%\n",
      "000000900: Training Loss = 2.183e+00, Accuracy = 40.62%\n",
      "000001000: Training Loss = 2.154e+00, Accuracy = 47.39%\n",
      "000001100: Training Loss = 2.124e+00, Accuracy = 52.52%\n",
      "000001170: #### 3 Epochs: Val Loss = 2.073e+00, Accuracy = 61.46%\n",
      "000001200: Training Loss = 2.086e+00, Accuracy = 58.14%\n",
      "000001300: Training Loss = 2.047e+00, Accuracy = 62.69%\n",
      "000001400: Training Loss = 2.009e+00, Accuracy = 65.31%\n",
      "000001500: Training Loss = 1.958e+00, Accuracy = 68.11%\n",
      "000001560: #### 4 Epochs: Val Loss = 1.890e+00, Accuracy = 73.33%\n",
      "000001600: Training Loss = 1.910e+00, Accuracy = 69.58%\n",
      "000001700: Training Loss = 1.858e+00, Accuracy = 71.66%\n",
      "000001800: Training Loss = 1.803e+00, Accuracy = 74.03%\n",
      "000001900: Training Loss = 1.750e+00, Accuracy = 75.52%\n",
      "000001950: #### 5 Epochs: Val Loss = 1.673e+00, Accuracy = 80.42%\n",
      "000002000: Training Loss = 1.699e+00, Accuracy = 76.81%\n",
      "000002100: Training Loss = 1.640e+00, Accuracy = 78.23%\n",
      "000002200: Training Loss = 1.584e+00, Accuracy = 79.30%\n",
      "000002300: Training Loss = 1.525e+00, Accuracy = 79.47%\n",
      "000002340: #### 6 Epochs: Val Loss = 1.446e+00, Accuracy = 83.33%\n",
      "000002400: Training Loss = 1.475e+00, Accuracy = 80.44%\n",
      "000002500: Training Loss = 1.415e+00, Accuracy = 81.64%\n",
      "000002600: Training Loss = 1.363e+00, Accuracy = 82.06%\n",
      "000002700: Training Loss = 1.314e+00, Accuracy = 82.44%\n",
      "000002730: #### 7 Epochs: Val Loss = 1.231e+00, Accuracy = 84.38%\n",
      "000002800: Training Loss = 1.263e+00, Accuracy = 82.02%\n",
      "000002900: Training Loss = 1.216e+00, Accuracy = 83.75%\n",
      "000003000: Training Loss = 1.157e+00, Accuracy = 84.62%\n",
      "000003100: Training Loss = 1.114e+00, Accuracy = 83.44%\n",
      "000003120: #### 8 Epochs: Val Loss = 1.045e+00, Accuracy = 86.56%\n",
      "000003200: Training Loss = 1.082e+00, Accuracy = 83.95%\n",
      "000003300: Training Loss = 1.032e+00, Accuracy = 85.27%\n",
      "000003400: Training Loss = 9.823e-01, Accuracy = 85.17%\n",
      "000003500: Training Loss = 9.594e-01, Accuracy = 85.55%\n",
      "000003510: #### 9 Epochs: Val Loss = 8.869e-01, Accuracy = 87.71%\n",
      "000003600: Training Loss = 9.257e-01, Accuracy = 85.20%\n",
      "000003700: Training Loss = 8.821e-01, Accuracy = 86.38%\n",
      "000003800: Training Loss = 8.561e-01, Accuracy = 86.28%\n",
      "000003900: Training Loss = 8.251e-01, Accuracy = 86.33%\n",
      "000003900: #### 10 Epochs: Val Loss = 7.614e-01, Accuracy = 88.75%\n"
     ]
    }
   ],
   "metadata": {}
  },
  {
   "cell_type": "code",
   "execution_count": null,
   "source": [],
   "outputs": [],
   "metadata": {}
  }
 ],
 "metadata": {
  "interpreter": {
   "hash": "6d6c92937dd838d4d5cad6b45cdc6deca670360475776cd4b2b4a79e3865f5ea"
  },
  "kernelspec": {
   "name": "python3",
   "display_name": "Python 3.7.7 64-bit ('pytorch': conda)"
  },
  "language_info": {
   "codemirror_mode": {
    "name": "ipython",
    "version": 3
   },
   "file_extension": ".py",
   "mimetype": "text/x-python",
   "name": "python",
   "nbconvert_exporter": "python",
   "pygments_lexer": "ipython3",
   "version": "3.7.7"
  }
 },
 "nbformat": 4,
 "nbformat_minor": 2
}